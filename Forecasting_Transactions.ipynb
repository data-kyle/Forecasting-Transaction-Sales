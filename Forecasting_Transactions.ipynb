{
 "cells": [
  {
   "cell_type": "code",
   "execution_count": 78,
   "metadata": {
    "id": "fqhQ5vSmDhr-"
   },
   "outputs": [],
   "source": [
    "import warnings\n",
    "warnings.filterwarnings('ignore')\n",
    "import pandas as pd\n",
    "import numpy as np\n",
    "import seaborn as sns\n",
    "from matplotlib import pyplot as plt\n",
    "import plotly.express as px\n",
    "import plotly.graph_objects as go\n",
    "import plotly.figure_factory as ff\n",
    "#plt.style.use('fivethirtyeight')\n",
    "#plt.style.use('dark_background')\n",
    "%matplotlib inline"
   ]
  },
  {
   "cell_type": "markdown",
   "metadata": {
    "id": "Ymkb47voFvpa"
   },
   "source": [
    "# Business Understanding"
   ]
  },
  {
   "cell_type": "markdown",
   "metadata": {
    "id": "KNMZgq6pGSns"
   },
   "source": [
    "## Scenario\n",
    "- The business wants us to forecast the given spreadsheet on their transactions.\n",
    "- `Our Goal`: is to predict what it will be in the future."
   ]
  },
  {
   "cell_type": "markdown",
   "metadata": {
    "id": "Hll1yIoRGSR5"
   },
   "source": [
    "- Forecasting transaction\n",
    "- Regression\n",
    "- Data should be consistent for 3 years\n",
    "- Some data quality is okay"
   ]
  },
  {
   "cell_type": "markdown",
   "metadata": {
    "id": "4JT0j6U1GqDK"
   },
   "source": [
    "# Data Understanding"
   ]
  },
  {
   "cell_type": "markdown",
   "metadata": {
    "id": "LZX6uXhvGzBI"
   },
   "source": [
    "## Discovery"
   ]
  },
  {
   "cell_type": "code",
   "execution_count": 3,
   "metadata": {
    "colab": {
     "base_uri": "https://localhost:8080/",
     "height": 74,
     "resources": {
      "http://localhost:8080/nbextensions/google.colab/files.js": {
       "data": "Ly8gQ29weXJpZ2h0IDIwMTcgR29vZ2xlIExMQwovLwovLyBMaWNlbnNlZCB1bmRlciB0aGUgQXBhY2hlIExpY2Vuc2UsIFZlcnNpb24gMi4wICh0aGUgIkxpY2Vuc2UiKTsKLy8geW91IG1heSBub3QgdXNlIHRoaXMgZmlsZSBleGNlcHQgaW4gY29tcGxpYW5jZSB3aXRoIHRoZSBMaWNlbnNlLgovLyBZb3UgbWF5IG9idGFpbiBhIGNvcHkgb2YgdGhlIExpY2Vuc2UgYXQKLy8KLy8gICAgICBodHRwOi8vd3d3LmFwYWNoZS5vcmcvbGljZW5zZXMvTElDRU5TRS0yLjAKLy8KLy8gVW5sZXNzIHJlcXVpcmVkIGJ5IGFwcGxpY2FibGUgbGF3IG9yIGFncmVlZCB0byBpbiB3cml0aW5nLCBzb2Z0d2FyZQovLyBkaXN0cmlidXRlZCB1bmRlciB0aGUgTGljZW5zZSBpcyBkaXN0cmlidXRlZCBvbiBhbiAiQVMgSVMiIEJBU0lTLAovLyBXSVRIT1VUIFdBUlJBTlRJRVMgT1IgQ09ORElUSU9OUyBPRiBBTlkgS0lORCwgZWl0aGVyIGV4cHJlc3Mgb3IgaW1wbGllZC4KLy8gU2VlIHRoZSBMaWNlbnNlIGZvciB0aGUgc3BlY2lmaWMgbGFuZ3VhZ2UgZ292ZXJuaW5nIHBlcm1pc3Npb25zIGFuZAovLyBsaW1pdGF0aW9ucyB1bmRlciB0aGUgTGljZW5zZS4KCi8qKgogKiBAZmlsZW92ZXJ2aWV3IEhlbHBlcnMgZm9yIGdvb2dsZS5jb2xhYiBQeXRob24gbW9kdWxlLgogKi8KKGZ1bmN0aW9uKHNjb3BlKSB7CmZ1bmN0aW9uIHNwYW4odGV4dCwgc3R5bGVBdHRyaWJ1dGVzID0ge30pIHsKICBjb25zdCBlbGVtZW50ID0gZG9jdW1lbnQuY3JlYXRlRWxlbWVudCgnc3BhbicpOwogIGVsZW1lbnQudGV4dENvbnRlbnQgPSB0ZXh0OwogIGZvciAoY29uc3Qga2V5IG9mIE9iamVjdC5rZXlzKHN0eWxlQXR0cmlidXRlcykpIHsKICAgIGVsZW1lbnQuc3R5bGVba2V5XSA9IHN0eWxlQXR0cmlidXRlc1trZXldOwogIH0KICByZXR1cm4gZWxlbWVudDsKfQoKLy8gTWF4IG51bWJlciBvZiBieXRlcyB3aGljaCB3aWxsIGJlIHVwbG9hZGVkIGF0IGEgdGltZS4KY29uc3QgTUFYX1BBWUxPQURfU0laRSA9IDEwMCAqIDEwMjQ7CgpmdW5jdGlvbiBfdXBsb2FkRmlsZXMoaW5wdXRJZCwgb3V0cHV0SWQpIHsKICBjb25zdCBzdGVwcyA9IHVwbG9hZEZpbGVzU3RlcChpbnB1dElkLCBvdXRwdXRJZCk7CiAgY29uc3Qgb3V0cHV0RWxlbWVudCA9IGRvY3VtZW50LmdldEVsZW1lbnRCeUlkKG91dHB1dElkKTsKICAvLyBDYWNoZSBzdGVwcyBvbiB0aGUgb3V0cHV0RWxlbWVudCB0byBtYWtlIGl0IGF2YWlsYWJsZSBmb3IgdGhlIG5leHQgY2FsbAogIC8vIHRvIHVwbG9hZEZpbGVzQ29udGludWUgZnJvbSBQeXRob24uCiAgb3V0cHV0RWxlbWVudC5zdGVwcyA9IHN0ZXBzOwoKICByZXR1cm4gX3VwbG9hZEZpbGVzQ29udGludWUob3V0cHV0SWQpOwp9CgovLyBUaGlzIGlzIHJvdWdobHkgYW4gYXN5bmMgZ2VuZXJhdG9yIChub3Qgc3VwcG9ydGVkIGluIHRoZSBicm93c2VyIHlldCksCi8vIHdoZXJlIHRoZXJlIGFyZSBtdWx0aXBsZSBhc3luY2hyb25vdXMgc3RlcHMgYW5kIHRoZSBQeXRob24gc2lkZSBpcyBnb2luZwovLyB0byBwb2xsIGZvciBjb21wbGV0aW9uIG9mIGVhY2ggc3RlcC4KLy8gVGhpcyB1c2VzIGEgUHJvbWlzZSB0byBibG9jayB0aGUgcHl0aG9uIHNpZGUgb24gY29tcGxldGlvbiBvZiBlYWNoIHN0ZXAsCi8vIHRoZW4gcGFzc2VzIHRoZSByZXN1bHQgb2YgdGhlIHByZXZpb3VzIHN0ZXAgYXMgdGhlIGlucHV0IHRvIHRoZSBuZXh0IHN0ZXAuCmZ1bmN0aW9uIF91cGxvYWRGaWxlc0NvbnRpbnVlKG91dHB1dElkKSB7CiAgY29uc3Qgb3V0cHV0RWxlbWVudCA9IGRvY3VtZW50LmdldEVsZW1lbnRCeUlkKG91dHB1dElkKTsKICBjb25zdCBzdGVwcyA9IG91dHB1dEVsZW1lbnQuc3RlcHM7CgogIGNvbnN0IG5leHQgPSBzdGVwcy5uZXh0KG91dHB1dEVsZW1lbnQubGFzdFByb21pc2VWYWx1ZSk7CiAgcmV0dXJuIFByb21pc2UucmVzb2x2ZShuZXh0LnZhbHVlLnByb21pc2UpLnRoZW4oKHZhbHVlKSA9PiB7CiAgICAvLyBDYWNoZSB0aGUgbGFzdCBwcm9taXNlIHZhbHVlIHRvIG1ha2UgaXQgYXZhaWxhYmxlIHRvIHRoZSBuZXh0CiAgICAvLyBzdGVwIG9mIHRoZSBnZW5lcmF0b3IuCiAgICBvdXRwdXRFbGVtZW50Lmxhc3RQcm9taXNlVmFsdWUgPSB2YWx1ZTsKICAgIHJldHVybiBuZXh0LnZhbHVlLnJlc3BvbnNlOwogIH0pOwp9CgovKioKICogR2VuZXJhdG9yIGZ1bmN0aW9uIHdoaWNoIGlzIGNhbGxlZCBiZXR3ZWVuIGVhY2ggYXN5bmMgc3RlcCBvZiB0aGUgdXBsb2FkCiAqIHByb2Nlc3MuCiAqIEBwYXJhbSB7c3RyaW5nfSBpbnB1dElkIEVsZW1lbnQgSUQgb2YgdGhlIGlucHV0IGZpbGUgcGlja2VyIGVsZW1lbnQuCiAqIEBwYXJhbSB7c3RyaW5nfSBvdXRwdXRJZCBFbGVtZW50IElEIG9mIHRoZSBvdXRwdXQgZGlzcGxheS4KICogQHJldHVybiB7IUl0ZXJhYmxlPCFPYmplY3Q+fSBJdGVyYWJsZSBvZiBuZXh0IHN0ZXBzLgogKi8KZnVuY3Rpb24qIHVwbG9hZEZpbGVzU3RlcChpbnB1dElkLCBvdXRwdXRJZCkgewogIGNvbnN0IGlucHV0RWxlbWVudCA9IGRvY3VtZW50LmdldEVsZW1lbnRCeUlkKGlucHV0SWQpOwogIGlucHV0RWxlbWVudC5kaXNhYmxlZCA9IGZhbHNlOwoKICBjb25zdCBvdXRwdXRFbGVtZW50ID0gZG9jdW1lbnQuZ2V0RWxlbWVudEJ5SWQob3V0cHV0SWQpOwogIG91dHB1dEVsZW1lbnQuaW5uZXJIVE1MID0gJyc7CgogIGNvbnN0IHBpY2tlZFByb21pc2UgPSBuZXcgUHJvbWlzZSgocmVzb2x2ZSkgPT4gewogICAgaW5wdXRFbGVtZW50LmFkZEV2ZW50TGlzdGVuZXIoJ2NoYW5nZScsIChlKSA9PiB7CiAgICAgIHJlc29sdmUoZS50YXJnZXQuZmlsZXMpOwogICAgfSk7CiAgfSk7CgogIGNvbnN0IGNhbmNlbCA9IGRvY3VtZW50LmNyZWF0ZUVsZW1lbnQoJ2J1dHRvbicpOwogIGlucHV0RWxlbWVudC5wYXJlbnRFbGVtZW50LmFwcGVuZENoaWxkKGNhbmNlbCk7CiAgY2FuY2VsLnRleHRDb250ZW50ID0gJ0NhbmNlbCB1cGxvYWQnOwogIGNvbnN0IGNhbmNlbFByb21pc2UgPSBuZXcgUHJvbWlzZSgocmVzb2x2ZSkgPT4gewogICAgY2FuY2VsLm9uY2xpY2sgPSAoKSA9PiB7CiAgICAgIHJlc29sdmUobnVsbCk7CiAgICB9OwogIH0pOwoKICAvLyBXYWl0IGZvciB0aGUgdXNlciB0byBwaWNrIHRoZSBmaWxlcy4KICBjb25zdCBmaWxlcyA9IHlpZWxkIHsKICAgIHByb21pc2U6IFByb21pc2UucmFjZShbcGlja2VkUHJvbWlzZSwgY2FuY2VsUHJvbWlzZV0pLAogICAgcmVzcG9uc2U6IHsKICAgICAgYWN0aW9uOiAnc3RhcnRpbmcnLAogICAgfQogIH07CgogIGNhbmNlbC5yZW1vdmUoKTsKCiAgLy8gRGlzYWJsZSB0aGUgaW5wdXQgZWxlbWVudCBzaW5jZSBmdXJ0aGVyIHBpY2tzIGFyZSBub3QgYWxsb3dlZC4KICBpbnB1dEVsZW1lbnQuZGlzYWJsZWQgPSB0cnVlOwoKICBpZiAoIWZpbGVzKSB7CiAgICByZXR1cm4gewogICAgICByZXNwb25zZTogewogICAgICAgIGFjdGlvbjogJ2NvbXBsZXRlJywKICAgICAgfQogICAgfTsKICB9CgogIGZvciAoY29uc3QgZmlsZSBvZiBmaWxlcykgewogICAgY29uc3QgbGkgPSBkb2N1bWVudC5jcmVhdGVFbGVtZW50KCdsaScpOwogICAgbGkuYXBwZW5kKHNwYW4oZmlsZS5uYW1lLCB7Zm9udFdlaWdodDogJ2JvbGQnfSkpOwogICAgbGkuYXBwZW5kKHNwYW4oCiAgICAgICAgYCgke2ZpbGUudHlwZSB8fCAnbi9hJ30pIC0gJHtmaWxlLnNpemV9IGJ5dGVzLCBgICsKICAgICAgICBgbGFzdCBtb2RpZmllZDogJHsKICAgICAgICAgICAgZmlsZS5sYXN0TW9kaWZpZWREYXRlID8gZmlsZS5sYXN0TW9kaWZpZWREYXRlLnRvTG9jYWxlRGF0ZVN0cmluZygpIDoKICAgICAgICAgICAgICAgICAgICAgICAgICAgICAgICAgICAgJ24vYSd9IC0gYCkpOwogICAgY29uc3QgcGVyY2VudCA9IHNwYW4oJzAlIGRvbmUnKTsKICAgIGxpLmFwcGVuZENoaWxkKHBlcmNlbnQpOwoKICAgIG91dHB1dEVsZW1lbnQuYXBwZW5kQ2hpbGQobGkpOwoKICAgIGNvbnN0IGZpbGVEYXRhUHJvbWlzZSA9IG5ldyBQcm9taXNlKChyZXNvbHZlKSA9PiB7CiAgICAgIGNvbnN0IHJlYWRlciA9IG5ldyBGaWxlUmVhZGVyKCk7CiAgICAgIHJlYWRlci5vbmxvYWQgPSAoZSkgPT4gewogICAgICAgIHJlc29sdmUoZS50YXJnZXQucmVzdWx0KTsKICAgICAgfTsKICAgICAgcmVhZGVyLnJlYWRBc0FycmF5QnVmZmVyKGZpbGUpOwogICAgfSk7CiAgICAvLyBXYWl0IGZvciB0aGUgZGF0YSB0byBiZSByZWFkeS4KICAgIGxldCBmaWxlRGF0YSA9IHlpZWxkIHsKICAgICAgcHJvbWlzZTogZmlsZURhdGFQcm9taXNlLAogICAgICByZXNwb25zZTogewogICAgICAgIGFjdGlvbjogJ2NvbnRpbnVlJywKICAgICAgfQogICAgfTsKCiAgICAvLyBVc2UgYSBjaHVua2VkIHNlbmRpbmcgdG8gYXZvaWQgbWVzc2FnZSBzaXplIGxpbWl0cy4gU2VlIGIvNjIxMTU2NjAuCiAgICBsZXQgcG9zaXRpb24gPSAwOwogICAgZG8gewogICAgICBjb25zdCBsZW5ndGggPSBNYXRoLm1pbihmaWxlRGF0YS5ieXRlTGVuZ3RoIC0gcG9zaXRpb24sIE1BWF9QQVlMT0FEX1NJWkUpOwogICAgICBjb25zdCBjaHVuayA9IG5ldyBVaW50OEFycmF5KGZpbGVEYXRhLCBwb3NpdGlvbiwgbGVuZ3RoKTsKICAgICAgcG9zaXRpb24gKz0gbGVuZ3RoOwoKICAgICAgY29uc3QgYmFzZTY0ID0gYnRvYShTdHJpbmcuZnJvbUNoYXJDb2RlLmFwcGx5KG51bGwsIGNodW5rKSk7CiAgICAgIHlpZWxkIHsKICAgICAgICByZXNwb25zZTogewogICAgICAgICAgYWN0aW9uOiAnYXBwZW5kJywKICAgICAgICAgIGZpbGU6IGZpbGUubmFtZSwKICAgICAgICAgIGRhdGE6IGJhc2U2NCwKICAgICAgICB9LAogICAgICB9OwoKICAgICAgbGV0IHBlcmNlbnREb25lID0gZmlsZURhdGEuYnl0ZUxlbmd0aCA9PT0gMCA/CiAgICAgICAgICAxMDAgOgogICAgICAgICAgTWF0aC5yb3VuZCgocG9zaXRpb24gLyBmaWxlRGF0YS5ieXRlTGVuZ3RoKSAqIDEwMCk7CiAgICAgIHBlcmNlbnQudGV4dENvbnRlbnQgPSBgJHtwZXJjZW50RG9uZX0lIGRvbmVgOwoKICAgIH0gd2hpbGUgKHBvc2l0aW9uIDwgZmlsZURhdGEuYnl0ZUxlbmd0aCk7CiAgfQoKICAvLyBBbGwgZG9uZS4KICB5aWVsZCB7CiAgICByZXNwb25zZTogewogICAgICBhY3Rpb246ICdjb21wbGV0ZScsCiAgICB9CiAgfTsKfQoKc2NvcGUuZ29vZ2xlID0gc2NvcGUuZ29vZ2xlIHx8IHt9OwpzY29wZS5nb29nbGUuY29sYWIgPSBzY29wZS5nb29nbGUuY29sYWIgfHwge307CnNjb3BlLmdvb2dsZS5jb2xhYi5fZmlsZXMgPSB7CiAgX3VwbG9hZEZpbGVzLAogIF91cGxvYWRGaWxlc0NvbnRpbnVlLAp9Owp9KShzZWxmKTsK",
       "headers": [
        [
         "content-type",
         "application/javascript"
        ]
       ],
       "ok": true,
       "status": 200,
       "status_text": ""
      }
     }
    },
    "id": "KF5xN1b6G5yv",
    "outputId": "475c028c-fb69-4660-d977-bac733920548"
   },
   "outputs": [
    {
     "data": {
      "text/html": [
       "\n",
       "     <input type=\"file\" id=\"files-26971d46-53cc-4cee-8286-6e63bea4b730\" name=\"files[]\" multiple disabled\n",
       "        style=\"border:none\" />\n",
       "     <output id=\"result-26971d46-53cc-4cee-8286-6e63bea4b730\">\n",
       "      Upload widget is only available when the cell has been executed in the\n",
       "      current browser session. Please rerun this cell to enable.\n",
       "      </output>\n",
       "      <script src=\"/nbextensions/google.colab/files.js\"></script> "
      ],
      "text/plain": [
       "<IPython.core.display.HTML object>"
      ]
     },
     "metadata": {},
     "output_type": "display_data"
    },
    {
     "name": "stdout",
     "output_type": "stream",
     "text": [
      "Saving regression.csv to regression.csv\n"
     ]
    }
   ],
   "source": [
    "from google.colab import files\n",
    "upload = files.upload()"
   ]
  },
  {
   "cell_type": "code",
   "execution_count": 4,
   "metadata": {
    "colab": {
     "base_uri": "https://localhost:8080/",
     "height": 203
    },
    "id": "Tg9s_LZlESAy",
    "outputId": "783d43da-f838-4fba-ecbb-5824871696a2"
   },
   "outputs": [
    {
     "data": {
      "text/html": [
       "<div>\n",
       "<style scoped>\n",
       "    .dataframe tbody tr th:only-of-type {\n",
       "        vertical-align: middle;\n",
       "    }\n",
       "\n",
       "    .dataframe tbody tr th {\n",
       "        vertical-align: top;\n",
       "    }\n",
       "\n",
       "    .dataframe thead th {\n",
       "        text-align: right;\n",
       "    }\n",
       "</style>\n",
       "<table border=\"1\" class=\"dataframe\">\n",
       "  <thead>\n",
       "    <tr style=\"text-align: right;\">\n",
       "      <th></th>\n",
       "      <th>Year</th>\n",
       "      <th>Month</th>\n",
       "      <th>Cost Centre</th>\n",
       "      <th>Account</th>\n",
       "      <th>Account Description</th>\n",
       "      <th>Account Type</th>\n",
       "      <th>Amount</th>\n",
       "    </tr>\n",
       "  </thead>\n",
       "  <tbody>\n",
       "    <tr>\n",
       "      <th>0</th>\n",
       "      <td>2019</td>\n",
       "      <td>Jan</td>\n",
       "      <td>CC100</td>\n",
       "      <td>1000000</td>\n",
       "      <td>Product Sales</td>\n",
       "      <td>Revenue</td>\n",
       "      <td>1344.051</td>\n",
       "    </tr>\n",
       "    <tr>\n",
       "      <th>1</th>\n",
       "      <td>2019</td>\n",
       "      <td>Jan</td>\n",
       "      <td>CC100</td>\n",
       "      <td>1000001</td>\n",
       "      <td>Licensing Revenue</td>\n",
       "      <td>Revenue</td>\n",
       "      <td>480.968</td>\n",
       "    </tr>\n",
       "    <tr>\n",
       "      <th>2</th>\n",
       "      <td>2019</td>\n",
       "      <td>Jan</td>\n",
       "      <td>CC100</td>\n",
       "      <td>1000002</td>\n",
       "      <td>Service Revenue</td>\n",
       "      <td>Revenue</td>\n",
       "      <td>650.820</td>\n",
       "    </tr>\n",
       "    <tr>\n",
       "      <th>3</th>\n",
       "      <td>2019</td>\n",
       "      <td>Jan</td>\n",
       "      <td>CC100</td>\n",
       "      <td>1000004</td>\n",
       "      <td>Fee Revenue</td>\n",
       "      <td>Revenue</td>\n",
       "      <td>339.360</td>\n",
       "    </tr>\n",
       "    <tr>\n",
       "      <th>4</th>\n",
       "      <td>2019</td>\n",
       "      <td>Jan</td>\n",
       "      <td>CC100</td>\n",
       "      <td>2000000</td>\n",
       "      <td>Cost of Good Sold</td>\n",
       "      <td>Expense</td>\n",
       "      <td>1125.328</td>\n",
       "    </tr>\n",
       "  </tbody>\n",
       "</table>\n",
       "</div>"
      ],
      "text/plain": [
       "   Year Month Cost Centre  Account Account Description Account Type    Amount\n",
       "0  2019   Jan       CC100  1000000       Product Sales      Revenue  1344.051\n",
       "1  2019   Jan       CC100  1000001   Licensing Revenue      Revenue   480.968\n",
       "2  2019   Jan       CC100  1000002     Service Revenue      Revenue   650.820\n",
       "3  2019   Jan       CC100  1000004         Fee Revenue      Revenue   339.360\n",
       "4  2019   Jan       CC100  2000000   Cost of Good Sold      Expense  1125.328"
      ]
     },
     "execution_count": 4,
     "metadata": {},
     "output_type": "execute_result"
    }
   ],
   "source": [
    "pan = pd.read_csv('regression.csv')\n",
    "pan.head()"
   ]
  },
  {
   "cell_type": "code",
   "execution_count": null,
   "metadata": {
    "id": "GQQIWSlrHrHd"
   },
   "outputs": [],
   "source": [
    "pan.columns"
   ]
  },
  {
   "cell_type": "code",
   "execution_count": 75,
   "metadata": {
    "colab": {
     "base_uri": "https://localhost:8080/"
    },
    "id": "gFtbxPlQH8ox",
    "outputId": "15855436-5633-426b-e128-fc252ef8dd8a"
   },
   "outputs": [
    {
     "data": {
      "text/plain": [
       "Year                            int64\n",
       "Month                          object\n",
       "Cost Centre                    object\n",
       "Account                         int64\n",
       "Account Description            object\n",
       "Account Type                   object\n",
       "Amount                        float64\n",
       "Period                          int64\n",
       "Day                             int64\n",
       "Date                   datetime64[ns]\n",
       "dtype: object"
      ]
     },
     "execution_count": 75,
     "metadata": {},
     "output_type": "execute_result"
    }
   ],
   "source": [
    "# What datatypes do we have?\n",
    "pan.dtypes"
   ]
  },
  {
   "cell_type": "code",
   "execution_count": 76,
   "metadata": {
    "colab": {
     "base_uri": "https://localhost:8080/"
    },
    "id": "OYx8OEw9Kw7B",
    "outputId": "f0ad6463-ef66-4704-b473-5c86df1ee0cc"
   },
   "outputs": [
    {
     "name": "stdout",
     "output_type": "stream",
     "text": [
      "Year 3 [2019 2020 2021]\n",
      "Month 12 ['Jan' 'Feb' 'Mar' 'Apr' 'May' 'Jun' 'Jul' 'Aug' 'Sep' 'Oct' 'Nov' 'Dec']\n",
      "Cost Centre 9 ['CC100' 'CC101' 'CC102' 'CC200' 'CC201' 'CC202' 'CC300' 'CC301' 'CC302']\n",
      "Account 13 [1000000 1000001 1000002 1000004 2000000 2000001 2000002 2000003 2000005\n",
      " 3000000 3000001 3000002 4000001]\n",
      "Account Description 13 ['Product Sales' 'Licensing Revenue' 'Service Revenue' 'Fee Revenue'\n",
      " 'Cost of Good Sold' 'Staff Expenses' 'Technology Expenses'\n",
      " 'Property Expenses' 'Purchases' 'Cash at Bank' 'Inventory'\n",
      " 'Accounts Receivable' 'Accounts Payable']\n",
      "Account Type 4 ['Revenue' 'Expense' 'Asset' 'Liability']\n",
      "Amount 3956 [1344.051  480.968  650.82  ... -282.056  537.478 1152.68 ]\n",
      "Period 12 [ 1  2  3  4  5  6  7  8  9 10 11 12]\n",
      "Day 1 [1]\n",
      "Date 36 ['2019-01-01T00:00:00.000000000' '2019-02-01T00:00:00.000000000'\n",
      " '2019-03-01T00:00:00.000000000' '2019-04-01T00:00:00.000000000'\n",
      " '2019-05-01T00:00:00.000000000' '2019-06-01T00:00:00.000000000'\n",
      " '2019-07-01T00:00:00.000000000' '2019-08-01T00:00:00.000000000'\n",
      " '2019-09-01T00:00:00.000000000' '2019-10-01T00:00:00.000000000'\n",
      " '2019-11-01T00:00:00.000000000' '2019-12-01T00:00:00.000000000'\n",
      " '2020-01-01T00:00:00.000000000' '2020-02-01T00:00:00.000000000'\n",
      " '2020-03-01T00:00:00.000000000' '2020-04-01T00:00:00.000000000'\n",
      " '2020-05-01T00:00:00.000000000' '2020-06-01T00:00:00.000000000'\n",
      " '2020-07-01T00:00:00.000000000' '2020-08-01T00:00:00.000000000'\n",
      " '2020-09-01T00:00:00.000000000' '2020-10-01T00:00:00.000000000'\n",
      " '2020-11-01T00:00:00.000000000' '2020-12-01T00:00:00.000000000'\n",
      " '2021-01-01T00:00:00.000000000' '2021-02-01T00:00:00.000000000'\n",
      " '2021-03-01T00:00:00.000000000' '2021-04-01T00:00:00.000000000'\n",
      " '2021-05-01T00:00:00.000000000' '2021-06-01T00:00:00.000000000'\n",
      " '2021-07-01T00:00:00.000000000' '2021-08-01T00:00:00.000000000'\n",
      " '2021-09-01T00:00:00.000000000' '2021-10-01T00:00:00.000000000'\n",
      " '2021-11-01T00:00:00.000000000' '2021-12-01T00:00:00.000000000']\n"
     ]
    }
   ],
   "source": [
    "# Check uniquenes\n",
    "for val in pan.columns:\n",
    "    print(val, len(pan[val].unique()), pan[val].unique())"
   ]
  },
  {
   "cell_type": "markdown",
   "metadata": {
    "id": "SHvvPFQFIPcL"
   },
   "source": [
    "- Most of our data consists of categorical or string objects\n",
    "- Next let's check how much memory our data is using?"
   ]
  },
  {
   "cell_type": "code",
   "execution_count": 8,
   "metadata": {
    "colab": {
     "base_uri": "https://localhost:8080/"
    },
    "id": "qm2eh0QZIKc_",
    "outputId": "5233d631-3fab-4083-ccfe-4f971c5393ec"
   },
   "outputs": [
    {
     "data": {
      "text/plain": [
       "1184348"
      ]
     },
     "execution_count": 8,
     "metadata": {},
     "output_type": "execute_result"
    }
   ],
   "source": [
    "pan.memory_usage(deep=True).sum()"
   ]
  },
  {
   "cell_type": "markdown",
   "metadata": {
    "id": "m63PY15jJO_p"
   },
   "source": [
    "- The dataset is only using 1MB so our training can be quicker"
   ]
  },
  {
   "cell_type": "markdown",
   "metadata": {
    "id": "PRAdlZ0xJc5_"
   },
   "source": [
    "## Relationship Analysis\n",
    "- Visualizing our dataset.\n",
    "- Using seaborn | Plotly"
   ]
  },
  {
   "cell_type": "code",
   "execution_count": null,
   "metadata": {
    "id": "maiWI0xmIlV3"
   },
   "outputs": [],
   "source": [
    "# Integer columns\n",
    "pan.select_dtypes(int).describe()"
   ]
  },
  {
   "cell_type": "code",
   "execution_count": null,
   "metadata": {
    "id": "riynFifcPWUi"
   },
   "outputs": [],
   "source": [
    "sns.heatmap(pan.corr(), annot=True).set_title('Basic Correlation')"
   ]
  },
  {
   "cell_type": "code",
   "execution_count": 24,
   "metadata": {
    "id": "X-YjR997OULy"
   },
   "outputs": [],
   "source": [
    "corrdict = {}\n",
    "for key, row in pan.join(pd.get_dummies(pan['Account'])).iterrows():\n",
    "    corrdict[key] = {int(row['Account']):row['Amount']}\n",
    "# Change to dataframe and convert rows into individual columns and replace Nan with fillna\n",
    "corrdf = pd.DataFrame.from_dict(corrdict).T.fillna(0)"
   ]
  },
  {
   "cell_type": "code",
   "execution_count": 30,
   "metadata": {
    "colab": {
     "base_uri": "https://localhost:8080/",
     "height": 388
    },
    "id": "9QIV6VLSOOm5",
    "outputId": "1d86db73-8ad6-474e-a430-2559dd73cc21"
   },
   "outputs": [
    {
     "data": {
      "image/png": "[encoded data removed]",
      "text/plain": [
       "<Figure size 1440x432 with 2 Axes>"
      ]
     },
     "metadata": {
      "needs_background": "dark"
     },
     "output_type": "display_data"
    }
   ],
   "source": [
    "plt.figure(figsize=(20,6))\n",
    "sns.heatmap(corrdf.corr(), annot=True).set_title('Account Correlation')\n",
    "plt.show()"
   ]
  },
  {
   "cell_type": "code",
   "execution_count": null,
   "metadata": {
    "id": "AA3Qx6RYKf1V"
   },
   "outputs": [],
   "source": [
    "# Plot 1: This can be used instead of a box plot\n",
    "plt.figure(figsize=(18,7))\n",
    "sns.violinplot(x='Account Type', y='Amount', data=pan)\n",
    "plt.show()"
   ]
  },
  {
   "cell_type": "code",
   "execution_count": 69,
   "metadata": {
    "colab": {
     "base_uri": "https://localhost:8080/",
     "height": 459
    },
    "id": "iADRl6nFL9Dd",
    "outputId": "d080f019-e0fb-4355-e336-40caa5fd7ab9"
   },
   "outputs": [
    {
     "data": {
      "image/png": "[encoded data removed]",
      "text/plain": [
       "<Figure size 1152x504 with 1 Axes>"
      ]
     },
     "metadata": {
      "needs_background": "dark"
     },
     "output_type": "display_data"
    }
   ],
   "source": [
    "# Let's focus on our Revenue Account Type\n",
    "plt.figure(figsize=(16,7))\n",
    "sns.violinplot(x='Account Description', y='Amount', data=pan[pan['Account Type']=='Revenue']).set_title('Revenue ViolinPlot')\n",
    "plt.show()"
   ]
  },
  {
   "cell_type": "code",
   "execution_count": null,
   "metadata": {
    "id": "TkYe_4vzXPST"
   },
   "outputs": [],
   "source": [
    "fig = px.histogram(pan, x=\"Amount\",\n",
    "                   title='Histogram of Amount',\n",
    "                   labels={'Amount':'Amount bill'}, # can specify one label per df column\n",
    "                   opacity=0.8,\n",
    "                   log_y=True, # represent bars with log scale\n",
    "                   color_discrete_sequence=['indianred'] # color of histogram bars\n",
    "                   )\n",
    "fig.show()"
   ]
  },
  {
   "cell_type": "code",
   "execution_count": null,
   "metadata": {
    "id": "eJU2LgTbYIrF"
   },
   "outputs": [],
   "source": [
    "fig = px.histogram(pan, x=\"Amount\", color=\"Account Type\")\n",
    "fig.show()"
   ]
  },
  {
   "cell_type": "code",
   "execution_count": null,
   "metadata": {
    "id": "1Ryc3_DqgCA5"
   },
   "outputs": [],
   "source": [
    "sns.relplot(x='Amount', y='Account', hue='Account Description', data=pan)"
   ]
  },
  {
   "cell_type": "code",
   "execution_count": 89,
   "metadata": {
    "colab": {
     "base_uri": "https://localhost:8080/",
     "height": 404
    },
    "id": "1palDLyqgXIQ",
    "outputId": "46a3f5c4-b98e-4df8-c680-9574057c3be8"
   },
   "outputs": [
    {
     "data": {
      "text/plain": [
       "<seaborn.axisgrid.FacetGrid at 0x7f7b5967b390>"
      ]
     },
     "execution_count": 89,
     "metadata": {},
     "output_type": "execute_result"
    },
    {
     "data": {
      "image/png": "[encoded data removed]",
      "text/plain": [
       "<Figure size 439.375x360 with 1 Axes>"
      ]
     },
     "metadata": {
      "needs_background": "dark"
     },
     "output_type": "display_data"
    }
   ],
   "source": [
    "sns.relplot(x='Amount', y='Account', hue='Account Type', data=pan)"
   ]
  },
  {
   "cell_type": "code",
   "execution_count": 47,
   "metadata": {
    "id": "oqU4NNh2TPjb"
   },
   "outputs": [],
   "source": [
    "# Review Trends\n",
    "# Create a Period, Day, and Date columns by combining Year and Month\n",
    "monthmap = {}\n",
    "monthmap['Jan'] = 1\n",
    "monthmap['Feb'] = 2\n",
    "monthmap['Mar'] = 3\n",
    "monthmap['Apr'] = 4\n",
    "monthmap['May'] = 5\n",
    "monthmap['Jun'] = 6\n",
    "monthmap['Jul'] = 7\n",
    "monthmap['Aug'] = 8\n",
    "monthmap['Sep'] = 9\n",
    "monthmap['Oct'] = 10\n",
    "monthmap['Nov'] = 11\n",
    "monthmap['Dec'] = 12"
   ]
  },
  {
   "cell_type": "code",
   "execution_count": 48,
   "metadata": {
    "id": "-sxUZTqTUPr_"
   },
   "outputs": [],
   "source": [
    "pan['Period'] = pan['Month'].apply(lambda x: monthmap[x])\n",
    "pan['Day'] = 1\n",
    "pan['Date'] = pan[\"Year\"].astype(str) + '-' + pan[\"Period\"].astype(str) + '-' + pan[\"Day\"].astype(str)\n",
    "# Convert the static Date to Datetime\n",
    "pan['Date'] = pd.to_datetime(pan['Date'])"
   ]
  },
  {
   "cell_type": "code",
   "execution_count": null,
   "metadata": {
    "id": "DXF2YDgPgoZv"
   },
   "outputs": [],
   "source": [
    "sns.pairplot(pan)"
   ]
  },
  {
   "cell_type": "markdown",
   "metadata": {
    "id": "AyEMjbCOMgxf"
   },
   "source": [
    "# Data Prep\n",
    "- Use a **For loop** to get **unique** values in **Account column** based on **Account Description**\n",
    "- Seaborn lineplot visual"
   ]
  },
  {
   "cell_type": "code",
   "execution_count": null,
   "metadata": {
    "id": "47TgtSwQdA4o"
   },
   "outputs": [],
   "source": [
    "for acc in pan['Account'].unique():\n",
    "    plt.figure(figsize=(23,9))\n",
    "    sns.lineplot(x='Date', y='Amount', estimator=np.median, hue='Account Description', data=pan[pan['Account']==acc]).set_title(f'{acc} by Month')\n",
    "    plt.show()"
   ]
  },
  {
   "cell_type": "markdown",
   "metadata": {
    "id": "fDyhkjxhhWi8"
   },
   "source": [
    "- Let's remove the Inventory datatype from the Account Description column \n",
    "- The Inventory does not follow the same trend"
   ]
  },
  {
   "cell_type": "code",
   "execution_count": null,
   "metadata": {
    "id": "-0PGRcsnhIlr"
   },
   "outputs": [],
   "source": [
    "# Convert fields to their types\n",
    "pan['Account'] = 'ACC' + pan[\"Account\"].astype(str)\n",
    "pan.head()"
   ]
  },
  {
   "cell_type": "code",
   "execution_count": 93,
   "metadata": {
    "id": "78Cu1Nc3hh6H"
   },
   "outputs": [],
   "source": [
    "pan = pan.drop(['Period', 'Day', 'Date'], axis=1)"
   ]
  },
  {
   "cell_type": "markdown",
   "metadata": {
    "id": "u_otpeQxiChK"
   },
   "source": [
    "- If we have the same number of datypes for:\n",
    "  - Account and Account Description \n",
    "- Then we can drop one of the columns"
   ]
  },
  {
   "cell_type": "code",
   "execution_count": 94,
   "metadata": {
    "colab": {
     "base_uri": "https://localhost:8080/"
    },
    "id": "0Ac1dHlchh3S",
    "outputId": "5abfd10c-8c18-4eef-f933-05954ec5f253"
   },
   "outputs": [
    {
     "data": {
      "text/plain": [
       "13"
      ]
     },
     "execution_count": 94,
     "metadata": {},
     "output_type": "execute_result"
    }
   ],
   "source": [
    "len(pan['Account'].unique())"
   ]
  },
  {
   "cell_type": "code",
   "execution_count": 95,
   "metadata": {
    "colab": {
     "base_uri": "https://localhost:8080/"
    },
    "id": "FnJqDzQfhh0Z",
    "outputId": "6624ac5d-897a-45a2-e5b6-94ff210c71e2"
   },
   "outputs": [
    {
     "data": {
      "text/plain": [
       "13"
      ]
     },
     "execution_count": 95,
     "metadata": {},
     "output_type": "execute_result"
    }
   ],
   "source": [
    "len(pan['Account Description'].unique())"
   ]
  },
  {
   "cell_type": "code",
   "execution_count": 96,
   "metadata": {
    "id": "KqLJPzm0hhw_"
   },
   "outputs": [],
   "source": [
    "pan['AccountVal'] = pan['Account'] + pan['Account Description']"
   ]
  },
  {
   "cell_type": "code",
   "execution_count": 97,
   "metadata": {
    "colab": {
     "base_uri": "https://localhost:8080/"
    },
    "id": "6FZ5xzSdhhuX",
    "outputId": "ed04d8b2-e57c-4344-af33-79a44cd6850a"
   },
   "outputs": [
    {
     "data": {
      "text/plain": [
       "13"
      ]
     },
     "execution_count": 97,
     "metadata": {},
     "output_type": "execute_result"
    }
   ],
   "source": [
    "len(pan['AccountVal'].unique())"
   ]
  },
  {
   "cell_type": "code",
   "execution_count": 98,
   "metadata": {
    "colab": {
     "base_uri": "https://localhost:8080/",
     "height": 203
    },
    "id": "VG4IUQcLiOkU",
    "outputId": "da1e7eb5-9d77-4de1-afcd-08d836681c50"
   },
   "outputs": [
    {
     "data": {
      "text/html": [
       "<div>\n",
       "<style scoped>\n",
       "    .dataframe tbody tr th:only-of-type {\n",
       "        vertical-align: middle;\n",
       "    }\n",
       "\n",
       "    .dataframe tbody tr th {\n",
       "        vertical-align: top;\n",
       "    }\n",
       "\n",
       "    .dataframe thead th {\n",
       "        text-align: right;\n",
       "    }\n",
       "</style>\n",
       "<table border=\"1\" class=\"dataframe\">\n",
       "  <thead>\n",
       "    <tr style=\"text-align: right;\">\n",
       "      <th></th>\n",
       "      <th>Year</th>\n",
       "      <th>Month</th>\n",
       "      <th>Cost Centre</th>\n",
       "      <th>Account</th>\n",
       "      <th>Account Type</th>\n",
       "      <th>Amount</th>\n",
       "    </tr>\n",
       "  </thead>\n",
       "  <tbody>\n",
       "    <tr>\n",
       "      <th>0</th>\n",
       "      <td>2019</td>\n",
       "      <td>Jan</td>\n",
       "      <td>CC100</td>\n",
       "      <td>ACC1000000</td>\n",
       "      <td>Revenue</td>\n",
       "      <td>1344.051</td>\n",
       "    </tr>\n",
       "    <tr>\n",
       "      <th>1</th>\n",
       "      <td>2019</td>\n",
       "      <td>Jan</td>\n",
       "      <td>CC100</td>\n",
       "      <td>ACC1000001</td>\n",
       "      <td>Revenue</td>\n",
       "      <td>480.968</td>\n",
       "    </tr>\n",
       "    <tr>\n",
       "      <th>2</th>\n",
       "      <td>2019</td>\n",
       "      <td>Jan</td>\n",
       "      <td>CC100</td>\n",
       "      <td>ACC1000002</td>\n",
       "      <td>Revenue</td>\n",
       "      <td>650.820</td>\n",
       "    </tr>\n",
       "    <tr>\n",
       "      <th>3</th>\n",
       "      <td>2019</td>\n",
       "      <td>Jan</td>\n",
       "      <td>CC100</td>\n",
       "      <td>ACC1000004</td>\n",
       "      <td>Revenue</td>\n",
       "      <td>339.360</td>\n",
       "    </tr>\n",
       "    <tr>\n",
       "      <th>4</th>\n",
       "      <td>2019</td>\n",
       "      <td>Jan</td>\n",
       "      <td>CC100</td>\n",
       "      <td>ACC2000000</td>\n",
       "      <td>Expense</td>\n",
       "      <td>1125.328</td>\n",
       "    </tr>\n",
       "  </tbody>\n",
       "</table>\n",
       "</div>"
      ],
      "text/plain": [
       "   Year Month Cost Centre     Account Account Type    Amount\n",
       "0  2019   Jan       CC100  ACC1000000      Revenue  1344.051\n",
       "1  2019   Jan       CC100  ACC1000001      Revenue   480.968\n",
       "2  2019   Jan       CC100  ACC1000002      Revenue   650.820\n",
       "3  2019   Jan       CC100  ACC1000004      Revenue   339.360\n",
       "4  2019   Jan       CC100  ACC2000000      Expense  1125.328"
      ]
     },
     "execution_count": 98,
     "metadata": {},
     "output_type": "execute_result"
    }
   ],
   "source": [
    "pan.drop(['AccountVal', 'Account Description'], axis=1, inplace=True)\n",
    "pan.head()"
   ]
  },
  {
   "cell_type": "markdown",
   "metadata": {
    "id": "bhu2rmeWibzx"
   },
   "source": [
    "## One-Hot Conversion\n",
    "- The ML doesn't handle categorical data types well\n",
    "- One-hot converts categorical features to features the ML can understand"
   ]
  },
  {
   "cell_type": "code",
   "execution_count": 99,
   "metadata": {
    "colab": {
     "base_uri": "https://localhost:8080/",
     "height": 240
    },
    "id": "0_NPAviZiUvB",
    "outputId": "884cac46-987e-4bd2-899b-b930f7af1c8e"
   },
   "outputs": [
    {
     "data": {
      "text/html": [
       "<div>\n",
       "<style scoped>\n",
       "    .dataframe tbody tr th:only-of-type {\n",
       "        vertical-align: middle;\n",
       "    }\n",
       "\n",
       "    .dataframe tbody tr th {\n",
       "        vertical-align: top;\n",
       "    }\n",
       "\n",
       "    .dataframe thead th {\n",
       "        text-align: right;\n",
       "    }\n",
       "</style>\n",
       "<table border=\"1\" class=\"dataframe\">\n",
       "  <thead>\n",
       "    <tr style=\"text-align: right;\">\n",
       "      <th></th>\n",
       "      <th>Year</th>\n",
       "      <th>Amount</th>\n",
       "      <th>Month_Apr</th>\n",
       "      <th>Month_Aug</th>\n",
       "      <th>Month_Dec</th>\n",
       "      <th>Month_Feb</th>\n",
       "      <th>Month_Jan</th>\n",
       "      <th>Month_Jul</th>\n",
       "      <th>Month_Jun</th>\n",
       "      <th>Month_Mar</th>\n",
       "      <th>Month_May</th>\n",
       "      <th>Month_Nov</th>\n",
       "      <th>Month_Oct</th>\n",
       "      <th>Month_Sep</th>\n",
       "      <th>Cost Centre_CC100</th>\n",
       "      <th>Cost Centre_CC101</th>\n",
       "      <th>Cost Centre_CC102</th>\n",
       "      <th>Cost Centre_CC200</th>\n",
       "      <th>Cost Centre_CC201</th>\n",
       "      <th>Cost Centre_CC202</th>\n",
       "      <th>Cost Centre_CC300</th>\n",
       "      <th>Cost Centre_CC301</th>\n",
       "      <th>Cost Centre_CC302</th>\n",
       "      <th>Account_ACC1000000</th>\n",
       "      <th>Account_ACC1000001</th>\n",
       "      <th>Account_ACC1000002</th>\n",
       "      <th>Account_ACC1000004</th>\n",
       "      <th>Account_ACC2000000</th>\n",
       "      <th>Account_ACC2000001</th>\n",
       "      <th>Account_ACC2000002</th>\n",
       "      <th>Account_ACC2000003</th>\n",
       "      <th>Account_ACC2000005</th>\n",
       "      <th>Account_ACC3000000</th>\n",
       "      <th>Account_ACC3000001</th>\n",
       "      <th>Account_ACC3000002</th>\n",
       "      <th>Account_ACC4000001</th>\n",
       "      <th>Account Type_Asset</th>\n",
       "      <th>Account Type_Expense</th>\n",
       "      <th>Account Type_Liability</th>\n",
       "      <th>Account Type_Revenue</th>\n",
       "    </tr>\n",
       "  </thead>\n",
       "  <tbody>\n",
       "    <tr>\n",
       "      <th>0</th>\n",
       "      <td>2019</td>\n",
       "      <td>1344.051</td>\n",
       "      <td>0</td>\n",
       "      <td>0</td>\n",
       "      <td>0</td>\n",
       "      <td>0</td>\n",
       "      <td>1</td>\n",
       "      <td>0</td>\n",
       "      <td>0</td>\n",
       "      <td>0</td>\n",
       "      <td>0</td>\n",
       "      <td>0</td>\n",
       "      <td>0</td>\n",
       "      <td>0</td>\n",
       "      <td>1</td>\n",
       "      <td>0</td>\n",
       "      <td>0</td>\n",
       "      <td>0</td>\n",
       "      <td>0</td>\n",
       "      <td>0</td>\n",
       "      <td>0</td>\n",
       "      <td>0</td>\n",
       "      <td>0</td>\n",
       "      <td>1</td>\n",
       "      <td>0</td>\n",
       "      <td>0</td>\n",
       "      <td>0</td>\n",
       "      <td>0</td>\n",
       "      <td>0</td>\n",
       "      <td>0</td>\n",
       "      <td>0</td>\n",
       "      <td>0</td>\n",
       "      <td>0</td>\n",
       "      <td>0</td>\n",
       "      <td>0</td>\n",
       "      <td>0</td>\n",
       "      <td>0</td>\n",
       "      <td>0</td>\n",
       "      <td>0</td>\n",
       "      <td>1</td>\n",
       "    </tr>\n",
       "    <tr>\n",
       "      <th>1</th>\n",
       "      <td>2019</td>\n",
       "      <td>480.968</td>\n",
       "      <td>0</td>\n",
       "      <td>0</td>\n",
       "      <td>0</td>\n",
       "      <td>0</td>\n",
       "      <td>1</td>\n",
       "      <td>0</td>\n",
       "      <td>0</td>\n",
       "      <td>0</td>\n",
       "      <td>0</td>\n",
       "      <td>0</td>\n",
       "      <td>0</td>\n",
       "      <td>0</td>\n",
       "      <td>1</td>\n",
       "      <td>0</td>\n",
       "      <td>0</td>\n",
       "      <td>0</td>\n",
       "      <td>0</td>\n",
       "      <td>0</td>\n",
       "      <td>0</td>\n",
       "      <td>0</td>\n",
       "      <td>0</td>\n",
       "      <td>0</td>\n",
       "      <td>1</td>\n",
       "      <td>0</td>\n",
       "      <td>0</td>\n",
       "      <td>0</td>\n",
       "      <td>0</td>\n",
       "      <td>0</td>\n",
       "      <td>0</td>\n",
       "      <td>0</td>\n",
       "      <td>0</td>\n",
       "      <td>0</td>\n",
       "      <td>0</td>\n",
       "      <td>0</td>\n",
       "      <td>0</td>\n",
       "      <td>0</td>\n",
       "      <td>0</td>\n",
       "      <td>1</td>\n",
       "    </tr>\n",
       "    <tr>\n",
       "      <th>2</th>\n",
       "      <td>2019</td>\n",
       "      <td>650.820</td>\n",
       "      <td>0</td>\n",
       "      <td>0</td>\n",
       "      <td>0</td>\n",
       "      <td>0</td>\n",
       "      <td>1</td>\n",
       "      <td>0</td>\n",
       "      <td>0</td>\n",
       "      <td>0</td>\n",
       "      <td>0</td>\n",
       "      <td>0</td>\n",
       "      <td>0</td>\n",
       "      <td>0</td>\n",
       "      <td>1</td>\n",
       "      <td>0</td>\n",
       "      <td>0</td>\n",
       "      <td>0</td>\n",
       "      <td>0</td>\n",
       "      <td>0</td>\n",
       "      <td>0</td>\n",
       "      <td>0</td>\n",
       "      <td>0</td>\n",
       "      <td>0</td>\n",
       "      <td>0</td>\n",
       "      <td>1</td>\n",
       "      <td>0</td>\n",
       "      <td>0</td>\n",
       "      <td>0</td>\n",
       "      <td>0</td>\n",
       "      <td>0</td>\n",
       "      <td>0</td>\n",
       "      <td>0</td>\n",
       "      <td>0</td>\n",
       "      <td>0</td>\n",
       "      <td>0</td>\n",
       "      <td>0</td>\n",
       "      <td>0</td>\n",
       "      <td>0</td>\n",
       "      <td>1</td>\n",
       "    </tr>\n",
       "    <tr>\n",
       "      <th>3</th>\n",
       "      <td>2019</td>\n",
       "      <td>339.360</td>\n",
       "      <td>0</td>\n",
       "      <td>0</td>\n",
       "      <td>0</td>\n",
       "      <td>0</td>\n",
       "      <td>1</td>\n",
       "      <td>0</td>\n",
       "      <td>0</td>\n",
       "      <td>0</td>\n",
       "      <td>0</td>\n",
       "      <td>0</td>\n",
       "      <td>0</td>\n",
       "      <td>0</td>\n",
       "      <td>1</td>\n",
       "      <td>0</td>\n",
       "      <td>0</td>\n",
       "      <td>0</td>\n",
       "      <td>0</td>\n",
       "      <td>0</td>\n",
       "      <td>0</td>\n",
       "      <td>0</td>\n",
       "      <td>0</td>\n",
       "      <td>0</td>\n",
       "      <td>0</td>\n",
       "      <td>0</td>\n",
       "      <td>1</td>\n",
       "      <td>0</td>\n",
       "      <td>0</td>\n",
       "      <td>0</td>\n",
       "      <td>0</td>\n",
       "      <td>0</td>\n",
       "      <td>0</td>\n",
       "      <td>0</td>\n",
       "      <td>0</td>\n",
       "      <td>0</td>\n",
       "      <td>0</td>\n",
       "      <td>0</td>\n",
       "      <td>0</td>\n",
       "      <td>1</td>\n",
       "    </tr>\n",
       "    <tr>\n",
       "      <th>4</th>\n",
       "      <td>2019</td>\n",
       "      <td>1125.328</td>\n",
       "      <td>0</td>\n",
       "      <td>0</td>\n",
       "      <td>0</td>\n",
       "      <td>0</td>\n",
       "      <td>1</td>\n",
       "      <td>0</td>\n",
       "      <td>0</td>\n",
       "      <td>0</td>\n",
       "      <td>0</td>\n",
       "      <td>0</td>\n",
       "      <td>0</td>\n",
       "      <td>0</td>\n",
       "      <td>1</td>\n",
       "      <td>0</td>\n",
       "      <td>0</td>\n",
       "      <td>0</td>\n",
       "      <td>0</td>\n",
       "      <td>0</td>\n",
       "      <td>0</td>\n",
       "      <td>0</td>\n",
       "      <td>0</td>\n",
       "      <td>0</td>\n",
       "      <td>0</td>\n",
       "      <td>0</td>\n",
       "      <td>0</td>\n",
       "      <td>1</td>\n",
       "      <td>0</td>\n",
       "      <td>0</td>\n",
       "      <td>0</td>\n",
       "      <td>0</td>\n",
       "      <td>0</td>\n",
       "      <td>0</td>\n",
       "      <td>0</td>\n",
       "      <td>0</td>\n",
       "      <td>0</td>\n",
       "      <td>1</td>\n",
       "      <td>0</td>\n",
       "      <td>0</td>\n",
       "    </tr>\n",
       "  </tbody>\n",
       "</table>\n",
       "</div>"
      ],
      "text/plain": [
       "   Year    Amount  ...  Account Type_Liability  Account Type_Revenue\n",
       "0  2019  1344.051  ...                       0                     1\n",
       "1  2019   480.968  ...                       0                     1\n",
       "2  2019   650.820  ...                       0                     1\n",
       "3  2019   339.360  ...                       0                     1\n",
       "4  2019  1125.328  ...                       0                     0\n",
       "\n",
       "[5 rows x 40 columns]"
      ]
     },
     "execution_count": 99,
     "metadata": {},
     "output_type": "execute_result"
    }
   ],
   "source": [
    "# All datasets require get_dummies\n",
    "pan = pd.get_dummies(pan)\n",
    "pan.head()"
   ]
  },
  {
   "cell_type": "markdown",
   "metadata": {
    "id": "vU-kG7pojJ6t"
   },
   "source": [
    "# Modeling"
   ]
  },
  {
   "cell_type": "markdown",
   "metadata": {
    "id": "m4YG2AwSlaJK"
   },
   "source": [
    "## Split into Test | Train"
   ]
  },
  {
   "cell_type": "code",
   "execution_count": 113,
   "metadata": {
    "id": "f-ywacGekOyj"
   },
   "outputs": [],
   "source": [
    "from sklearn.model_selection import train_test_split\n",
    "from sklearn.pipeline import make_pipeline\n",
    "from sklearn.linear_model import Ridge, Lasso, ElasticNet\n",
    "from sklearn.ensemble import RandomForestRegressor, GradientBoostingRegressor\n",
    "from sklearn.model_selection import GridSearchCV\n",
    "from sklearn.exceptions import NotFittedError\n",
    "from sklearn.metrics import r2_score, mean_absolute_error"
   ]
  },
  {
   "cell_type": "code",
   "execution_count": 102,
   "metadata": {
    "id": "x8sTGCl9iitq"
   },
   "outputs": [],
   "source": [
    "X = pan.drop('Amount', axis=1)\n",
    "y = pan['Amount']"
   ]
  },
  {
   "cell_type": "code",
   "execution_count": 105,
   "metadata": {
    "colab": {
     "base_uri": "https://localhost:8080/"
    },
    "id": "YJSas6h3kD7D",
    "outputId": "8e97baca-ae48-42d2-8c21-639cfa81082c"
   },
   "outputs": [
    {
     "name": "stdout",
     "output_type": "stream",
     "text": [
      "X: (3369, 39), (843, 39)\n",
      "Y: (3369,), (843,)\n"
     ]
    }
   ],
   "source": [
    "X_train, X_test, y_train, y_test = train_test_split(X, y, test_size=0.2, random_state=42)\n",
    "print(f'X: {X_train.shape}, {X_test.shape}\\nY: {y_train.shape}, {y_test.shape}')"
   ]
  },
  {
   "cell_type": "markdown",
   "metadata": {
    "id": "zpbR2fhulj0K"
   },
   "source": [
    "## Creating a pipeline"
   ]
  },
  {
   "cell_type": "markdown",
   "metadata": {
    "id": "eieQcOvGksSp"
   },
   "source": [
    "- Now we going to run different models\n",
    "- To check which model performs better\n",
    "- Deploy the winning model\n",
    "- We are going to create 5 pipelines:\n",
    "  - **Ridge, Lasso, ElasticNet**\n",
    "  - **RandomForestRegressor, GradientBoostReggressor**"
   ]
  },
  {
   "cell_type": "code",
   "execution_count": 107,
   "metadata": {
    "id": "uFjd3KbhkgmW"
   },
   "outputs": [],
   "source": [
    "pipelines = {}\n",
    "pipelines['Rf'] = make_pipeline(RandomForestRegressor(random_state=42))\n",
    "pipelines['Gb'] = make_pipeline(GradientBoostingRegressor(random_state=42))\n",
    "pipelines['Ridge'] = make_pipeline(Ridge(random_state=42))\n",
    "pipelines['Lasso'] = make_pipeline(Lasso(random_state=42))\n",
    "pipelines['Enet'] = make_pipeline(ElasticNet(random_state=42))"
   ]
  },
  {
   "cell_type": "code",
   "execution_count": null,
   "metadata": {
    "id": "LpzZ_n6llHq8"
   },
   "outputs": [],
   "source": [
    "RandomForestRegressor().get_params()"
   ]
  },
  {
   "cell_type": "code",
   "execution_count": 109,
   "metadata": {
    "id": "khc2Zw9elKU7"
   },
   "outputs": [],
   "source": [
    "hypergrid = {\n",
    "    'Rf':\n",
    "    {\n",
    "        'randomforestregressor__min_samples_split':[2,4,6],\n",
    "        'randomforestregressor__min_samples_leaf':[1,2,3],\n",
    "    },\n",
    "    'Gb':\n",
    "    {\n",
    "        'gradientboostingregressor__alpha':[0.001, 0.005, 0.01, 0.05, 0.1, 0.5, 0.99]\n",
    "    },\n",
    "    'Ridge':{\n",
    "        'ridge__alpha':[0.001, 0.005, 0.01, 0.05, 0.1, 0.5, 0.99]\n",
    "    },\n",
    "    'Lasso':{\n",
    "        'lasso__alpha':[0.001, 0.005, 0.01, 0.05, 0.1, 0.5, 0.99]\n",
    "    },\n",
    "    'Enet':{\n",
    "        'elasticnet__alpha':[0.001, 0.005, 0.01, 0.05, 0.1, 0.5, 0.99]\n",
    "    }\n",
    "}"
   ]
  },
  {
   "cell_type": "markdown",
   "metadata": {
    "id": "K8tILsOTlpKV"
   },
   "source": [
    "## Hyperparameter tuning"
   ]
  },
  {
   "cell_type": "code",
   "execution_count": 111,
   "metadata": {
    "colab": {
     "base_uri": "https://localhost:8080/"
    },
    "id": "aX5Z0gPhlPYt",
    "outputId": "0d709549-ca6c-428a-f4ac-115315b6a7d1"
   },
   "outputs": [
    {
     "name": "stdout",
     "output_type": "stream",
     "text": [
      "Training for Rf\n",
      "Rf was successfully fitted\n",
      "Training for Gb\n",
      "Gb was successfully fitted\n",
      "Training for Ridge\n",
      "Ridge was successfully fitted\n",
      "Training for Lasso\n",
      "Lasso was successfully fitted\n",
      "Training for Enet\n",
      "Enet was successfully fitted\n"
     ]
    }
   ],
   "source": [
    "fit_models = {}\n",
    "for algo, pipeline in pipelines.items():\n",
    "    # cv = cross-validation | n_jobs = use all the cpu's available in our mission\n",
    "    model = GridSearchCV(pipeline, hypergrid[algo], cv=10, n_jobs=-1)\n",
    "    try:\n",
    "        print(f'Training for {algo}')\n",
    "        model.fit(X_train, y_train)\n",
    "        fit_models[algo] = model\n",
    "        print(f'{algo} was successfully fitted')\n",
    "    except NotFittedError as e:\n",
    "        print(repr(e))"
   ]
  },
  {
   "cell_type": "code",
   "execution_count": null,
   "metadata": {
    "id": "gIXSLm0-lPcJ"
   },
   "outputs": [],
   "source": [
    "# Generating prediction\n",
    "fit_models['Rf'].predict(X_test)"
   ]
  },
  {
   "cell_type": "code",
   "execution_count": 114,
   "metadata": {
    "colab": {
     "base_uri": "https://localhost:8080/"
    },
    "id": "-i4t3bMPlPft",
    "outputId": "af48ea52-e98e-48c8-a513-f39581ed5ece"
   },
   "outputs": [
    {
     "name": "stdout",
     "output_type": "stream",
     "text": [
      "Rf scores - R2:0.874466049044148 || MAE:106.72766430604982\n",
      "Gb scores - R2:0.4525565895705621 || MAE:249.84986339336055\n",
      "Ridge scores - R2:0.30506290545669956 || MAE:282.55344712551454\n",
      "Lasso scores - R2:0.30465238296320185 || MAE:282.7607752236323\n",
      "Enet scores - R2:0.3062694708574947 || MAE:282.33656799979786\n"
     ]
    }
   ],
   "source": [
    "for algo, model in fit_models.items():\n",
    "    yhat = model.predict(X_test)\n",
    "    print(f'{algo} scores - R2:{r2_score(y_test, yhat)} || MAE:{mean_absolute_error(y_test, yhat)}')"
   ]
  },
  {
   "cell_type": "code",
   "execution_count": null,
   "metadata": {
    "id": "NzI16lgZlPiX"
   },
   "outputs": [],
   "source": []
  },
  {
   "cell_type": "code",
   "execution_count": null,
   "metadata": {
    "id": "nF1301R-lPmI"
   },
   "outputs": [],
   "source": []
  },
  {
   "cell_type": "code",
   "execution_count": null,
   "metadata": {
    "id": "tftINv0ZlPpG"
   },
   "outputs": [],
   "source": []
  }
 ],
 "metadata": {
  "colab": {
   "collapsed_sections": [
    "Ymkb47voFvpa",
    "4JT0j6U1GqDK",
    "LZX6uXhvGzBI",
    "PRAdlZ0xJc5_",
    "AyEMjbCOMgxf",
    "bhu2rmeWibzx",
    "m4YG2AwSlaJK",
    "zpbR2fhulj0K"
   ],
   "name": "Forecasting_Transactions.ipynb",
   "provenance": []
  },
  "kernelspec": {
   "display_name": "Python 3 (ipykernel)",
   "language": "python",
   "name": "python3"
  },
  "language_info": {
   "codemirror_mode": {
    "name": "ipython",
    "version": 3
   },
   "file_extension": ".py",
   "mimetype": "text/x-python",
   "name": "python",
   "nbconvert_exporter": "python",
   "pygments_lexer": "ipython3",
   "version": "3.8.11"
  }
 },
 "nbformat": 4,
 "nbformat_minor": 4
}
